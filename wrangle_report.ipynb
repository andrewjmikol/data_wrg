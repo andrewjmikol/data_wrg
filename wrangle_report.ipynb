{
 "cells": [
  {
   "cell_type": "markdown",
   "metadata": {},
   "source": [
    "<h1>WeRateDogs Wrangle Report"
   ]
  },
  {
   "cell_type": "markdown",
   "metadata": {},
   "source": [
    "Details to include process of wrangling, pitfalls, issues, solves, and discoveries about the process and datasets involved."
   ]
  },
  {
   "cell_type": "markdown",
   "metadata": {},
   "source": [
    "Three datasets from three different sources are combined into one in order to create a master dataset that would allow for prediction of WeRateDogs rating scores based on picture prediction, description used, number of tweet favorites, and number of tweet retweets. \n",
    "\n",
    "Df_dogs is a dataset that was gathered directly from the anaconda environment and provided by the assignment. From its datatype overview, 5 variables showed insignificant use with a majority of data being null and unusable. The column \"tweet_id\" identified individual tweets that needed to maintain integrity and should change datatype to object. The column \"name\", while containing all non-null entries, contained incomplete information and should be separated into proper_name and be parsed down for true names. Cleaning will lead to a smaller dataset. Within the given ranking system, there is a lack of normalization and needs to be cleaned to give a better analysis. Upon further research of the profile, the data would prove to skew towards and above the denominator in an attempt to not subvert the rating system, but instead to show that the subjects of the ratings system are all noteworthy, seemingly making the ratings system as originally intended to be unobjective and subjectively steered to be exaggerated.\n",
    "\n",
    "Df_tweepy was gathered using an API access from twitter. While the required variables \"favorite_count\" and \"retweet_count\" provided value, other optional categories like \"favorited\", \"is_quote_status\", and \"possibly_sensitive\" while interesting, proved to be useless with virutally no variability within the column. The information should be easily joined to other info by the tweet ids used to search the API.\n",
    "\n",
    "Df_images was gathered from a link that used the requests library to compile into a pandas-friendly dataset. The data included predictions of what the tweet images provided, some of which seems erroneous, or low confidence.\n",
    "\n",
    "Much of the data must be scaled down to usable data first and then cleaned. With an estimated 2000 entries from each dataset, the joining of the data could lead to a smaller dataset that would be easier to clean.\n",
    "\n",
    "Joining before cleaning can present potential problems such as memory bloating and slow performance, however with the data present, a uniform look of the data that is joinable will lead to better usage of the data.\n",
    "\n",
    "Once the data is merged, cleaning becomes easy as dealing with columns from left to right, starting with tweet_id changing its type to object. This maintains the integrity of tweet_id.\n",
    "\n",
    "Timestamp was changed from object type to datetime.\n",
    "\n",
    "\"source\" column was dropped because lack of platform variance.\n",
    "\n",
    "\"text\" column is used to find retweets, which are denoted by \"RT\" and are removed from dataset.\n",
    "\n",
    "\"expanded_url\" contains the urls for the pictures that uses the tweet ids for each entry. Dropped.\n",
    "\n",
    "\"rating_numerator\" includes inflated numbers that may skew data averages and visualizations. Outliers higher than 14 have been dropped. These outliers appear in the data one time or less.\n",
    "\n",
    "\"rating_denominator\" includes two outliers that will be dropped.\n",
    "\n",
    "\"name\" was looked through using a new column to find non title words and were replaced with None.\n",
    "\n",
    "Dog stage columns were changed to boolean by running a list comprehension and setting the input if it was the chosen word to True and all other entries, None, to False.\n",
    "\n",
    "\"display_text_range\" was changed from object containing brackets to extracted non-zero integer.\n",
    "\n",
    "\"favorite_count\" is non-null and acceptable integers\n",
    "\n",
    "\"retweet_count\" is non-null and acceptable integers\n",
    "\n",
    "\"jpg_url\" is link to jpg used for ranking and prediction. Dropped.\n",
    "\n",
    "Removed non-dog rating tweets by searching and removing text, \"We only\" (rate dogs).\n",
    "\n",
    "Created new column of combined total of p_conf values.\n",
    "\n",
    "\n",
    "\n",
    "\n",
    "\n",
    "\n"
   ]
  },
  {
   "cell_type": "code",
   "execution_count": null,
   "metadata": {},
   "outputs": [],
   "source": []
  }
 ],
 "metadata": {
  "kernelspec": {
   "display_name": "Python 3",
   "language": "python",
   "name": "python3"
  },
  "language_info": {
   "codemirror_mode": {
    "name": "ipython",
    "version": 3
   },
   "file_extension": ".py",
   "mimetype": "text/x-python",
   "name": "python",
   "nbconvert_exporter": "python",
   "pygments_lexer": "ipython3",
   "version": "3.6.3"
  }
 },
 "nbformat": 4,
 "nbformat_minor": 2
}
